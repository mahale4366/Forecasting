{
 "cells": [
  {
   "cell_type": "code",
   "execution_count": 2,
   "metadata": {},
   "outputs": [],
   "source": [
    "from pyomo.environ import ConcreteModel, SolverFactory, TransformationFactory\n",
    "from pyomo.network import Arc\n",
    "from idaes.core import FlowsheetBlock"
   ]
  },
  {
   "cell_type": "code",
   "execution_count": 3,
   "metadata": {},
   "outputs": [],
   "source": [
    "import idaes.generic_models.properties.examples.saponification_thermo as thermo_props\n",
    "import idaes.generic_models.properties.examples.saponification_reactions as reaction_props"
   ]
  },
  {
   "cell_type": "code",
   "execution_count": 4,
   "metadata": {},
   "outputs": [],
   "source": [
    "from idaes.generic_models.unit_models import CSTR"
   ]
  },
  {
   "cell_type": "code",
   "execution_count": 5,
   "metadata": {},
   "outputs": [],
   "source": [
    "m = ConcreteModel()"
   ]
  },
  {
   "cell_type": "code",
   "execution_count": 6,
   "metadata": {},
   "outputs": [],
   "source": [
    "m.fs = FlowsheetBlock(default={\"dynamic\": False})"
   ]
  },
  {
   "cell_type": "code",
   "execution_count": 7,
   "metadata": {},
   "outputs": [],
   "source": [
    "m.fs.thermo_params = thermo_props.SaponificationParameterBlock()"
   ]
  },
  {
   "cell_type": "code",
   "execution_count": 8,
   "metadata": {},
   "outputs": [],
   "source": [
    "m.fs.reaction_params = reaction_props.SaponificationReactionParameterBlock(\n",
    "                        default={\"property_package\": m.fs.thermo_params})"
   ]
  },
  {
   "cell_type": "code",
   "execution_count": 9,
   "metadata": {},
   "outputs": [],
   "source": [
    "m.fs.Tank1 = CSTR(default={\"property_package\": m.fs.thermo_params,\n",
    "                           \"reaction_package\": m.fs.reaction_params,\n",
    "                           \"has_equilibrium_reactions\": False,\n",
    "                           \"has_heat_of_reaction\": True,\n",
    "                           \"has_heat_transfer\": True,\n",
    "                           \"has_pressure_change\": False})\n",
    "m.fs.Tank2 = CSTR(default={\"property_package\": m.fs.thermo_params,\n",
    "                           \"reaction_package\": m.fs.reaction_params,\n",
    "                           \"has_equilibrium_reactions\": False,\n",
    "                           \"has_heat_of_reaction\": True,\n",
    "                           \"has_heat_transfer\": True,\n",
    "                           \"has_pressure_change\": False})"
   ]
  },
  {
   "cell_type": "code",
   "execution_count": 10,
   "metadata": {},
   "outputs": [],
   "source": [
    "m.fs.stream = Arc(source=m.fs.Tank1.outlet,\n",
    "                  destination=m.fs.Tank2.inlet)"
   ]
  },
  {
   "cell_type": "code",
   "execution_count": 11,
   "metadata": {},
   "outputs": [],
   "source": [
    "TransformationFactory(\"network.expand_arcs\").apply_to(m)"
   ]
  },
  {
   "cell_type": "code",
   "execution_count": 12,
   "metadata": {},
   "outputs": [],
   "source": [
    "m.fs.Tank1.inlet.flow_vol[0].fix(1.0)\n",
    "m.fs.Tank1.inlet.conc_mol_comp[0, \"H2O\"].fix(55388.0)\n",
    "m.fs.Tank1.inlet.conc_mol_comp[0, \"NaOH\"].fix(100.0)\n",
    "m.fs.Tank1.inlet.conc_mol_comp[0, \"EthylAcetate\"].fix(100.0)\n",
    "m.fs.Tank1.inlet.conc_mol_comp[0, \"SodiumAcetate\"].fix(0.0)\n",
    "m.fs.Tank1.inlet.conc_mol_comp[0, \"Ethanol\"].fix(0.0)\n",
    "m.fs.Tank1.inlet.temperature[0].fix(303.15)\n",
    "m.fs.Tank1.inlet.pressure[0].fix(101325.0)"
   ]
  },
  {
   "cell_type": "code",
   "execution_count": 13,
   "metadata": {},
   "outputs": [],
   "source": [
    "m.fs.Tank1.volume.fix(1.0)\n",
    "m.fs.Tank1.heat_duty.fix(0.0)\n",
    "\n",
    "m.fs.Tank2.volume.fix(1.0)\n",
    "m.fs.Tank2.heat_duty.fix(0.0)"
   ]
  },
  {
   "cell_type": "code",
   "execution_count": 14,
   "metadata": {},
   "outputs": [
    {
     "name": "stdout",
     "output_type": "stream",
     "text": [
      "2020-07-05 20:59:27 [INFO] idaes.init.fs.Tank1.control_volume.reactions: Initialization Complete.\n",
      "2020-07-05 20:59:27 [INFO] idaes.init.fs.Tank1.control_volume.properties_out: State Released.\n",
      "2020-07-05 20:59:27 [INFO] idaes.init.fs.Tank1.control_volume: Initialization Complete\n",
      "2020-07-05 20:59:27 [INFO] idaes.init.fs.Tank1.control_volume.properties_in: State Released.\n",
      "2020-07-05 20:59:27 [INFO] idaes.init.fs.Tank1: Initialization Complete: optimal - Optimal Solution Found\n"
     ]
    }
   ],
   "source": [
    "m.fs.Tank1.initialize()"
   ]
  },
  {
   "cell_type": "code",
   "execution_count": 15,
   "metadata": {},
   "outputs": [
    {
     "name": "stdout",
     "output_type": "stream",
     "text": [
      "2020-07-05 21:02:28 [INFO] idaes.init.fs.Tank2.control_volume.reactions: Initialization Complete.\n",
      "2020-07-05 21:02:28 [INFO] idaes.init.fs.Tank2.control_volume.properties_out: State Released.\n",
      "2020-07-05 21:02:28 [INFO] idaes.init.fs.Tank2.control_volume: Initialization Complete\n",
      "2020-07-05 21:02:28 [INFO] idaes.init.fs.Tank2.control_volume.properties_in: State Released.\n",
      "2020-07-05 21:02:28 [INFO] idaes.init.fs.Tank2: Initialization Complete: optimal - Optimal Solution Found\n"
     ]
    }
   ],
   "source": [
    "m.fs.Tank2.initialize(state_args={\n",
    "        \"flow_vol\": 1.0,\n",
    "        \"conc_mol_comp\": {\"H2O\": 55388.0,\n",
    "                          \"NaOH\": 100.0,\n",
    "                          \"EthylAcetate\": 100.0,\n",
    "                          \"SodiumAcetate\": 0.0,\n",
    "                          \"Ethanol\": 0.0},\n",
    "        \"temperature\": 303.15,\n",
    "        \"pressure\": 101325.0})"
   ]
  },
  {
   "cell_type": "code",
   "execution_count": 16,
   "metadata": {},
   "outputs": [],
   "source": [
    "solver = SolverFactory('ipopt')"
   ]
  },
  {
   "cell_type": "code",
   "execution_count": 17,
   "metadata": {},
   "outputs": [
    {
     "name": "stdout",
     "output_type": "stream",
     "text": [
      "Ipopt 3.13.2: \n",
      "\n",
      "******************************************************************************\n",
      "This program contains Ipopt, a library for large-scale nonlinear optimization.\n",
      " Ipopt is released as open source code under the Eclipse Public License (EPL).\n",
      "         For more information visit http://projects.coin-or.org/Ipopt\n",
      "\n",
      "This version of Ipopt was compiled from source code available at\n",
      "    https://github.com/IDAES/Ipopt as part of the Institute for the Design of\n",
      "    Advanced Energy Systems Process Systems Engineering Framework (IDAES PSE\n",
      "    Framework) Copyright (c) 2018-2019. See https://github.com/IDAES/idaes-pse.\n",
      "\n",
      "This version of Ipopt was compiled using HSL, a collection of Fortran codes\n",
      "    for large-scale scientific computation.  All technical papers, sales and\n",
      "    publicity material resulting from use of the HSL codes within IPOPT must\n",
      "    contain the following acknowledgement:\n",
      "        HSL, a collection of Fortran codes for large-scale scientific\n",
      "        computation. See http://www.hsl.rl.ac.uk.\n",
      "******************************************************************************\n",
      "\n",
      "This is Ipopt version 3.13.2, running with linear solver ma27.\n",
      "\n",
      "Number of nonzeros in equality constraint Jacobian...:      103\n",
      "Number of nonzeros in inequality constraint Jacobian.:        0\n",
      "Number of nonzeros in Lagrangian Hessian.............:       26\n",
      "\n",
      "Total number of variables............................:       40\n",
      "                     variables with only lower bounds:       18\n",
      "                variables with lower and upper bounds:        6\n",
      "                     variables with only upper bounds:        0\n",
      "Total number of equality constraints.................:       40\n",
      "Total number of inequality constraints...............:        0\n",
      "        inequality constraints with only lower bounds:        0\n",
      "   inequality constraints with lower and upper bounds:        0\n",
      "        inequality constraints with only upper bounds:        0\n",
      "\n",
      "iter    objective    inf_pr   inf_du lg(mu)  ||d||  lg(rg) alpha_du alpha_pr  ls\n",
      "   0  0.0000000e+00 7.57e+01 1.00e+00  -1.0 0.00e+00    -  0.00e+00 0.00e+00   0\n",
      "   1  0.0000000e+00 1.39e+01 7.56e+03  -1.0 7.57e+01    -  1.31e-04 1.00e+00f  1\n",
      "   2  0.0000000e+00 1.19e+00 2.73e+00  -1.0 3.06e+00    -  9.57e-01 1.00e+00h  1\n",
      "   3  0.0000000e+00 1.29e-02 8.98e-01  -1.0 3.17e-01    -  9.90e-01 1.00e+00h  1\n",
      "   4  0.0000000e+00 1.56e-06 5.09e-04  -1.0 3.50e-03    -  9.90e-01 1.00e+00h  1\n",
      "   5  0.0000000e+00 1.07e-13 1.00e-06  -1.0 4.25e-07    -  1.00e+00 1.00e+00h  1\n",
      "\n",
      "Number of Iterations....: 5\n",
      "\n",
      "                                   (scaled)                 (unscaled)\n",
      "Objective...............:   0.0000000000000000e+00    0.0000000000000000e+00\n",
      "Dual infeasibility......:   0.0000000000000000e+00    0.0000000000000000e+00\n",
      "Constraint violation....:   1.0669243266647754e-13    1.0669243266647754e-13\n",
      "Complementarity.........:   0.0000000000000000e+00    0.0000000000000000e+00\n",
      "Overall NLP error.......:   1.0669243266647754e-13    1.0669243266647754e-13\n",
      "\n",
      "\n",
      "Number of objective function evaluations             = 6\n",
      "Number of objective gradient evaluations             = 6\n",
      "Number of equality constraint evaluations            = 6\n",
      "Number of inequality constraint evaluations          = 0\n",
      "Number of equality constraint Jacobian evaluations   = 6\n",
      "Number of inequality constraint Jacobian evaluations = 0\n",
      "Number of Lagrangian Hessian evaluations             = 5\n",
      "Total CPU secs in IPOPT (w/o function evaluations)   =      0.002\n",
      "Total CPU secs in NLP function evaluations           =      0.000\n",
      "\n",
      "EXIT: Optimal Solution Found.\n"
     ]
    }
   ],
   "source": [
    "results = solver.solve(m, tee=True)"
   ]
  },
  {
   "cell_type": "code",
   "execution_count": 18,
   "metadata": {},
   "outputs": [
    {
     "name": "stdout",
     "output_type": "stream",
     "text": [
      "\n",
      "Problem: \n",
      "- Lower bound: -inf\n",
      "  Upper bound: inf\n",
      "  Number of objectives: 1\n",
      "  Number of constraints: 40\n",
      "  Number of variables: 40\n",
      "  Sense: unknown\n",
      "Solver: \n",
      "- Status: ok\n",
      "  Message: Ipopt 3.13.2\\x3a Optimal Solution Found\n",
      "  Termination condition: optimal\n",
      "  Id: 0\n",
      "  Error rc: 0\n",
      "  Time: 0.10309028625488281\n",
      "Solution: \n",
      "- number of solutions: 0\n",
      "  number of solutions displayed: 0\n",
      "\n"
     ]
    }
   ],
   "source": [
    "print(results)"
   ]
  },
  {
   "cell_type": "code",
   "execution_count": 19,
   "metadata": {},
   "outputs": [
    {
     "name": "stdout",
     "output_type": "stream",
     "text": [
      "Tank 1 Outlet\n",
      "outlet : Size=1\n",
      "    Key  : Name          : Value\n",
      "    None : conc_mol_comp : {(0.0, 'Ethanol'): 75.71405668314925, (0.0, 'EthylAcetate'): 24.285943316850748, (0.0, 'H2O'): 55388.0, (0.0, 'NaOH'): 24.285943316850748, (0.0, 'SodiumAcetate'): 75.71405668314925}\n",
      "         :      flow_vol : {0.0: 1.0}\n",
      "         :      pressure : {0.0: 101325.0}\n",
      "         :   temperature : {0.0: 304.0392138960668}\n",
      "\n",
      "Tank 2 Outlet\n",
      "outlet : Size=1\n",
      "    Key  : Name          : Value\n",
      "    None : conc_mol_comp : {(0.0, 'Ethanol'): 89.63418767673981, (0.0, 'EthylAcetate'): 10.365812323260183, (0.0, 'H2O'): 55388.0, (0.0, 'NaOH'): 10.365812323260183, (0.0, 'SodiumAcetate'): 89.63418767673981}\n",
      "         :      flow_vol : {0.0: 1.0}\n",
      "         :      pressure : {0.0: 101325.0}\n",
      "         :   temperature : {0.0: 304.2026970649369}\n"
     ]
    }
   ],
   "source": [
    "print(\"Tank 1 Outlet\")\n",
    "m.fs.Tank1.outlet.display()\n",
    "print()\n",
    "print(\"Tank 2 Outlet\")\n",
    "m.fs.Tank2.outlet.display()"
   ]
  },
  {
   "cell_type": "code",
   "execution_count": null,
   "metadata": {},
   "outputs": [],
   "source": []
  }
 ],
 "metadata": {
  "kernelspec": {
   "display_name": "Python 3",
   "language": "python",
   "name": "python3"
  },
  "language_info": {
   "codemirror_mode": {
    "name": "ipython",
    "version": 3
   },
   "file_extension": ".py",
   "mimetype": "text/x-python",
   "name": "python",
   "nbconvert_exporter": "python",
   "pygments_lexer": "ipython3",
   "version": "3.7.7"
  }
 },
 "nbformat": 4,
 "nbformat_minor": 4
}
