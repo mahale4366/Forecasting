{
 "cells": [
  {
   "cell_type": "markdown",
   "metadata": {},
   "source": [
    "Redtide Binary Classification Model\n",
    "\n",
    "    Machine Learning CONV3d with Early stopping that classifies images as redtide (1) or null redtide (0).\n",
    "    0: No Redtide present\n",
    "    1: Redtide present\n",
    "    \n",
    "    Data:\n",
    "    Null images: handpicked from combinations of google keywords:'Florida', 'coastal', 'water', 'blue', 'coast', 'drone'.\n",
    "    Redtide Images: \" \": 'Florida', 'redtide', 'blooms', 'offshore', 'coastal', 'karenia', 'brevis'.\n",
    "    Data set is increased to 64 training images by rotating images 90, 180, and 270 degrees.\n",
    "        Training data: 32 Null images; 32 Redtide images\n",
    "        Test Data: 8 Null images; 12 Redtide images\n",
    "    \n",
    "    Maximum model val_accuracy: 100%\n",
    "    Minimum model val_accuracy: 65%\n",
    "        'early stopping': Max Accuracy, Min Value_loss, and Min Val_accuracy.\n",
    "            Maximizes model value_accuracy: >90%."
   ]
  },
  {
   "cell_type": "code",
   "execution_count": 1,
   "metadata": {},
   "outputs": [],
   "source": [
    "import pandas as pd\n",
    "import numpy as np\n",
    "from PIL import Image\n",
    "from tensorflow.keras.preprocessing import image\n",
    "from sklearn.model_selection import train_test_split\n",
    "from tensorflow.keras.models import Sequential\n",
    "from tensorflow.keras.layers import Dense, Conv2D, Flatten, Conv3D\n",
    "from tensorflow.keras.utils import to_categorical\n",
    "from tensorflow.keras.callbacks import EarlyStopping\n",
    "import cv2\n",
    "from sklearn.metrics import classification_report, confusion_matrix\n",
    "import matplotlib.pyplot as plt\n",
    "%matplotlib inline\n",
    "import seaborn as sns"
   ]
  },
  {
   "cell_type": "code",
   "execution_count": 3,
   "metadata": {},
   "outputs": [],
   "source": [
    "def convimage(imagex):\n",
    "    imagex = Image.open(imagex)\n",
    "    imagex =  imagex.resize((225, 150))\n",
    "    imagex = image.img_to_array(imagex, data_format=None, dtype=None)\n",
    "    imagex = np.reshape(imagex, (1,150, 225, 3))\n",
    "    return imagex\n",
    "\n",
    "def convimage90(imagex):\n",
    "    imagex = Image.open(imagex)\n",
    "    imagex = imagex.rotate(90)\n",
    "    imagex =  imagex.resize((225, 150))\n",
    "    imagex = image.img_to_array(imagex, data_format=None, dtype=None)\n",
    "    imagex = np.reshape(imagex, (1,150, 225, 3))\n",
    "    return imagex\n",
    "    \n",
    "def convimage180(imagex):\n",
    "    imagex = Image.open(imagex)\n",
    "    imagex = imagex.rotate(180)\n",
    "    imagex =  imagex.resize((225, 150))\n",
    "    imagex = image.img_to_array(imagex, data_format=None, dtype=None)\n",
    "    imagex = np.reshape(imagex, (1,150, 225, 3))\n",
    "    return imagex\n",
    "    \n",
    "def convimage270(imagex):\n",
    "    imagex = Image.open(imagex)\n",
    "    imagex = imagex.rotate(270)\n",
    "    imagex =  imagex.resize((225, 150))\n",
    "    imagex = image.img_to_array(imagex, data_format=None, dtype=None)\n",
    "    imagex = np.reshape(imagex, (1,150, 225, 3))\n",
    "    return imagex"
   ]
  },
  {
   "cell_type": "code",
   "execution_count": 4,
   "metadata": {},
   "outputs": [],
   "source": [
    "KBx1 = convimage(r'C:\\Users\\matth\\Pictures\\KBX\\RT1.jpg')\n",
    "KBx2 = convimage(r'C:\\Users\\matth\\Pictures\\KBX\\RT2.jpg')\n",
    "KBx3 = convimage(r'C:\\Users\\matth\\Pictures\\KBX\\RT3.jpg')\n",
    "KBx4 = convimage(r'C:\\Users\\matth\\Pictures\\KBX\\RT4.jpg')\n",
    "KBx5 = convimage(r'C:\\Users\\matth\\Pictures\\KBX\\RT5.jpg')\n",
    "KBx6 = convimage(r'C:\\Users\\matth\\Pictures\\KBX\\RT6.jpg')\n",
    "KBx7 = convimage(r'C:\\Users\\matth\\Pictures\\KBX\\RT7.jpg')\n",
    "KBx8 = convimage(r'C:\\Users\\matth\\Pictures\\KBX\\RT8.jpg')\n",
    "KBx9 = convimage(r'C:\\Users\\matth\\Pictures\\KBX\\RT9.jpg')\n",
    "KBx10 = convimage(r'C:\\Users\\matth\\Pictures\\KBX\\RT10.jpg')\n",
    "FLcoast1 = convimage(r'C:\\Users\\matth\\Pictures\\FLCOAST\\fl1.jpg')\n",
    "FLcoast2 = convimage(r'C:\\Users\\matth\\Pictures\\FLCOAST\\fl2.jpg')\n",
    "FLcoast3 = convimage(r'C:\\Users\\matth\\Pictures\\FLCOAST\\fl3.jpg')\n",
    "FLcoast4 = convimage(r'C:\\Users\\matth\\Pictures\\FLCOAST\\fl4.jpg')\n",
    "FLcoast5 = convimage(r'C:\\Users\\matth\\Pictures\\FLCOAST\\fl5.jpg')\n",
    "FLcoast6 = convimage(r'C:\\Users\\matth\\Pictures\\FLCOAST\\fl6.jpg')\n",
    "FLcoast7 = convimage(r'C:\\Users\\matth\\Pictures\\FLCOAST\\fl7.jpg')\n",
    "FLcoast8 = convimage(r'C:\\Users\\matth\\Pictures\\FLCOAST\\fl8.jpg')\n",
    "FLcoast9 = convimage(r'C:\\Users\\matth\\Pictures\\FLCOAST\\fl9.jpg')\n",
    "FLcoast10 = convimage(r'C:\\Users\\matth\\Pictures\\FLCOAST\\fl10.jpg')\n",
    "KBx190 = convimage90(r'C:\\Users\\matth\\Pictures\\KBX\\RT1.jpg')\n",
    "KBx290 = convimage90(r'C:\\Users\\matth\\Pictures\\KBX\\RT2.jpg')\n",
    "KBx390 = convimage90(r'C:\\Users\\matth\\Pictures\\KBX\\RT3.jpg')\n",
    "KBx490 =convimage90(r'C:\\Users\\matth\\Pictures\\KBX\\RT4.jpg')\n",
    "KBx590 = convimage90(r'C:\\Users\\matth\\Pictures\\KBX\\RT5.jpg')\n",
    "KBx690 = convimage90(r'C:\\Users\\matth\\Pictures\\KBX\\RT6.jpg')\n",
    "KBx790 = convimage90(r'C:\\Users\\matth\\Pictures\\KBX\\RT7.jpg')\n",
    "KBx890 = convimage90(r'C:\\Users\\matth\\Pictures\\KBX\\RT8.jpg')\n",
    "KBx990 = convimage90(r'C:\\Users\\matth\\Pictures\\KBX\\RT9.jpg')\n",
    "KBx1090 = convimage90(r'C:\\Users\\matth\\Pictures\\KBX\\RT10.jpg')\n",
    "FLcoast190 = convimage90(r'C:\\Users\\matth\\Pictures\\FLCOAST\\fl1.jpg')\n",
    "FLcoast290 = convimage90(r'C:\\Users\\matth\\Pictures\\FLCOAST\\fl2.jpg')\n",
    "FLcoast390 = convimage90(r'C:\\Users\\matth\\Pictures\\FLCOAST\\fl3.jpg')\n",
    "FLcoast490 = convimage90(r'C:\\Users\\matth\\Pictures\\FLCOAST\\fl4.jpg')\n",
    "FLcoast590 = convimage90(r'C:\\Users\\matth\\Pictures\\FLCOAST\\fl5.jpg')\n",
    "FLcoast690 = convimage90(r'C:\\Users\\matth\\Pictures\\FLCOAST\\fl6.jpg')\n",
    "FLcoast790 = convimage90(r'C:\\Users\\matth\\Pictures\\FLCOAST\\fl7.jpg')\n",
    "FLcoast890 = convimage90(r'C:\\Users\\matth\\Pictures\\FLCOAST\\fl8.jpg')\n",
    "FLcoast990 = convimage90(r'C:\\Users\\matth\\Pictures\\FLCOAST\\fl9.jpg')\n",
    "FLcoast1090 = convimage90(r'C:\\Users\\matth\\Pictures\\FLCOAST\\fl10.jpg')\n",
    "KBx1180 = convimage180(r'C:\\Users\\matth\\Pictures\\KBX\\RT1.jpg')\n",
    "KBx2180 = convimage180(r'C:\\Users\\matth\\Pictures\\KBX\\RT2.jpg')\n",
    "KBx3180 = convimage180(r'C:\\Users\\matth\\Pictures\\KBX\\RT3.jpg')\n",
    "KBx4180 = convimage180(r'C:\\Users\\matth\\Pictures\\KBX\\RT4.jpg')\n",
    "KBx5180 = convimage180(r'C:\\Users\\matth\\Pictures\\KBX\\RT5.jpg')\n",
    "KBx6180 = convimage180(r'C:\\Users\\matth\\Pictures\\KBX\\RT6.jpg')\n",
    "KBx7180 = convimage180(r'C:\\Users\\matth\\Pictures\\KBX\\RT7.jpg')\n",
    "KBx8180 = convimage180(r'C:\\Users\\matth\\Pictures\\KBX\\RT8.jpg')\n",
    "KBx9180 = convimage180(r'C:\\Users\\matth\\Pictures\\KBX\\RT9.jpg')\n",
    "KBx10180 = convimage180(r'C:\\Users\\matth\\Pictures\\KBX\\RT10.jpg')\n",
    "FLcoast1180 = convimage180(r'C:\\Users\\matth\\Pictures\\FLCOAST\\fl1.jpg')\n",
    "FLcoast2180 = convimage180(r'C:\\Users\\matth\\Pictures\\FLCOAST\\fl2.jpg')\n",
    "FLcoast3180 = convimage180(r'C:\\Users\\matth\\Pictures\\FLCOAST\\fl3.jpg')\n",
    "FLcoast4180 = convimage180(r'C:\\Users\\matth\\Pictures\\FLCOAST\\fl4.jpg')\n",
    "FLcoast5180 = convimage180(r'C:\\Users\\matth\\Pictures\\FLCOAST\\fl5.jpg')\n",
    "FLcoast6180 = convimage180(r'C:\\Users\\matth\\Pictures\\FLCOAST\\fl6.jpg')\n",
    "FLcoast7180 = convimage180(r'C:\\Users\\matth\\Pictures\\FLCOAST\\fl7.jpg')\n",
    "FLcoast8180 = convimage180(r'C:\\Users\\matth\\Pictures\\FLCOAST\\fl8.jpg')\n",
    "FLcoast9180 = convimage180(r'C:\\Users\\matth\\Pictures\\FLCOAST\\fl9.jpg')\n",
    "FLcoast10180 = convimage180(r'C:\\Users\\matth\\Pictures\\FLCOAST\\fl10.jpg')\n",
    "KBx1270 = convimage270(r'C:\\Users\\matth\\Pictures\\KBX\\RT1.jpg')\n",
    "KBx2270 = convimage270(r'C:\\Users\\matth\\Pictures\\KBX\\RT2.jpg')\n",
    "KBx3270 = convimage270(r'C:\\Users\\matth\\Pictures\\KBX\\RT3.jpg')\n",
    "KBx4270 = convimage270(r'C:\\Users\\matth\\Pictures\\KBX\\RT4.jpg')\n",
    "KBx5270 = convimage270(r'C:\\Users\\matth\\Pictures\\KBX\\RT5.jpg')\n",
    "KBx6270 = convimage270(r'C:\\Users\\matth\\Pictures\\KBX\\RT6.jpg')\n",
    "KBx7270 = convimage270(r'C:\\Users\\matth\\Pictures\\KBX\\RT7.jpg')\n",
    "KBx8270 = convimage270(r'C:\\Users\\matth\\Pictures\\KBX\\RT8.jpg')\n",
    "KBx9270 = convimage270(r'C:\\Users\\matth\\Pictures\\KBX\\RT9.jpg')\n",
    "KBx10270 = convimage270(r'C:\\Users\\matth\\Pictures\\KBX\\RT10.jpg')\n",
    "FLcoast1270= convimage270(r'C:\\Users\\matth\\Pictures\\FLCOAST\\fl1.jpg')\n",
    "FLcoast2270 = convimage270(r'C:\\Users\\matth\\Pictures\\FLCOAST\\fl2.jpg')\n",
    "FLcoast3270 = convimage270(r'C:\\Users\\matth\\Pictures\\FLCOAST\\fl3.jpg')\n",
    "FLcoast4270 = convimage270(r'C:\\Users\\matth\\Pictures\\FLCOAST\\fl4.jpg')\n",
    "FLcoast5270 = convimage270(r'C:\\Users\\matth\\Pictures\\FLCOAST\\fl5.jpg')\n",
    "FLcoast6270 = convimage270(r'C:\\Users\\matth\\Pictures\\FLCOAST\\fl6.jpg')\n",
    "FLcoast7270 = convimage270(r'C:\\Users\\matth\\Pictures\\FLCOAST\\fl7.jpg')\n",
    "FLcoast8270 = convimage270(r'C:\\Users\\matth\\Pictures\\FLCOAST\\fl8.jpg')\n",
    "FLcoast9270 = convimage270(r'C:\\Users\\matth\\Pictures\\FLCOAST\\fl9.jpg')\n",
    "FLcoast10270 = convimage270(r'C:\\Users\\matth\\Pictures\\FLCOAST\\fl10.jpg')"
   ]
  },
  {
   "cell_type": "code",
   "execution_count": 5,
   "metadata": {},
   "outputs": [],
   "source": [
    "redtidetest = convimage(r'C:\\Users\\matth\\Pictures\\Redtide Test\\redtidetest.jpg')\n",
    "redtidetest2 = convimage(r'C:\\Users\\matth\\Pictures\\Redtide Test\\redtidetest2.jpg') \n",
    "redtidetest3 = convimage(r'C:\\Users\\matth\\Pictures\\Redtide Test\\redtidetest3.jpg')\n",
    "redtidenull = convimage(r'C:\\Users\\matth\\Pictures\\Redtide Test\\redtidenull.jpg')\n",
    "redtidenull2 = convimage(r'C:\\Users\\matth\\Pictures\\Redtide Test\\redtidenull2.jpg')\n",
    "\n",
    "redtidetest90 = convimage90(r'C:\\Users\\matth\\Pictures\\Redtide Test\\redtidetest.jpg')\n",
    "redtidetest180 = convimage180(r'C:\\Users\\matth\\Pictures\\Redtide Test\\redtidetest.jpg')\n",
    "redtidetest270 = convimage270(r'C:\\Users\\matth\\Pictures\\Redtide Test\\redtidetest.jpg')\n",
    "redtidetest290 = convimage90(r'C:\\Users\\matth\\Pictures\\Redtide Test\\redtidetest2.jpg') \n",
    "redtidetest2180 = convimage180(r'C:\\Users\\matth\\Pictures\\Redtide Test\\redtidetest2.jpg') \n",
    "redtidetest2270 = convimage270(r'C:\\Users\\matth\\Pictures\\Redtide Test\\redtidetest2.jpg') \n",
    "redtidetest390 = convimage90(r'C:\\Users\\matth\\Pictures\\Redtide Test\\redtidetest3.jpg')\n",
    "redtidetest3180 = convimage180(r'C:\\Users\\matth\\Pictures\\Redtide Test\\redtidetest3.jpg')\n",
    "redtidetest3270 = convimage270(r'C:\\Users\\matth\\Pictures\\Redtide Test\\redtidetest3.jpg')\n",
    "redtidenull90 = convimage90(r'C:\\Users\\matth\\Pictures\\Redtide Test\\redtidenull.jpg')\n",
    "redtidenull180 = convimage180(r'C:\\Users\\matth\\Pictures\\Redtide Test\\redtidenull.jpg')\n",
    "redtidenull270 = convimage270(r'C:\\Users\\matth\\Pictures\\Redtide Test\\redtidenull.jpg')\n",
    "redtidenull290 = convimage90(r'C:\\Users\\matth\\Pictures\\Redtide Test\\redtidenull2.jpg')\n",
    "redtidenull2180 = convimage180(r'C:\\Users\\matth\\Pictures\\Redtide Test\\redtidenull2.jpg')\n",
    "redtidenull2270 = convimage270(r'C:\\Users\\matth\\Pictures\\Redtide Test\\redtidenull2.jpg')"
   ]
  },
  {
   "cell_type": "code",
   "execution_count": 6,
   "metadata": {},
   "outputs": [],
   "source": [
    "X = [[FLcoast1,FLcoast2,FLcoast3,FLcoast4,KBx1,KBx2,KBx3,KBx4,KBx5,\n",
    "      FLcoast6,FLcoast8,FLcoast9,FLcoast10,KBx6,KBx7,KBx8,\n",
    "      KBx190,KBx290,KBx390,KBx490,KBx590,KBx690,KBx790,KBx890,\n",
    "      FLcoast190,FLcoast290,FLcoast390,FLcoast490,FLcoast690,FLcoast890,FLcoast990,FLcoast1090,\n",
    "      KBx1180,KBx2180,KBx3180,KBx4180,KBx5180,KBx6180,KBx7180,KBx8180,\n",
    "      FLcoast1180,FLcoast2180,FLcoast3180,FLcoast4180,FLcoast6180,FLcoast8180,FLcoast9180,FLcoast10180,\n",
    "      KBx1270,KBx2270,KBx3270,KBx4270,KBx5270,KBx6270,KBx7270,KBx8270,\n",
    "      FLcoast1270,FLcoast2270,FLcoast3270,FLcoast4270,FLcoast6270,FLcoast8270,FLcoast9270,FLcoast10270]]\n",
    "X_test = [[redtidetest,redtidetest2,redtidetest3,\n",
    "           redtidenull,redtidenull2,\n",
    "           redtidetest90,redtidetest180,redtidetest270,\n",
    "           redtidetest290,redtidetest2180,redtidetest2270,\n",
    "           redtidetest390,redtidetest3180,redtidetest3270,\n",
    "           redtidenull90,redtidenull180,redtidenull270,\n",
    "           redtidenull290,redtidenull2180,redtidenull2270]]\n",
    "y = np.array([0,0,0,0,1,1,1,1,1,\n",
    "              0,0,0,0,1,1,1,\n",
    "              1,1,1,1,1,1,1,1,\n",
    "              0,0,0,0,0,0,0,0,\n",
    "              1,1,1,1,1,1,1,1,\n",
    "              0,0,0,0,0,0,0,0,\n",
    "              1,1,1,1,1,1,1,1,\n",
    "              0,0,0,0,0,0,0,0])\n",
    "y_test = np.array([1,1,1,\n",
    "                   0,0,\n",
    "                   1,1,1,1,1,1,1,1,1,\n",
    "                   0,0,0,0,0,0])"
   ]
  },
  {
   "cell_type": "code",
   "execution_count": 7,
   "metadata": {},
   "outputs": [],
   "source": [
    "num_classes = 0"
   ]
  },
  {
   "cell_type": "code",
   "execution_count": 8,
   "metadata": {},
   "outputs": [],
   "source": [
    "#y = to_categorical(y,num_classes)\n",
    "#y_test = to_categorical(y_test,num_classes)"
   ]
  },
  {
   "cell_type": "code",
   "execution_count": 9,
   "metadata": {},
   "outputs": [
    {
     "data": {
      "text/plain": [
       "array([1, 1, 1, 0, 0, 1, 1, 1, 1, 1, 1, 1, 1, 1, 0, 0, 0, 0, 0, 0])"
      ]
     },
     "execution_count": 9,
     "metadata": {},
     "output_type": "execute_result"
    }
   ],
   "source": [
    "y_test"
   ]
  },
  {
   "cell_type": "code",
   "execution_count": 10,
   "metadata": {},
   "outputs": [
    {
     "data": {
      "text/plain": [
       "array([0, 0, 0, 0, 1, 1, 1, 1, 1, 0, 0, 0, 0, 1, 1, 1, 1, 1, 1, 1, 1, 1,\n",
       "       1, 1, 0, 0, 0, 0, 0, 0, 0, 0, 1, 1, 1, 1, 1, 1, 1, 1, 0, 0, 0, 0,\n",
       "       0, 0, 0, 0, 1, 1, 1, 1, 1, 1, 1, 1, 0, 0, 0, 0, 0, 0, 0, 0])"
      ]
     },
     "execution_count": 10,
     "metadata": {},
     "output_type": "execute_result"
    }
   ],
   "source": [
    "y"
   ]
  },
  {
   "cell_type": "code",
   "execution_count": 11,
   "metadata": {},
   "outputs": [],
   "source": [
    "early_stop1 = EarlyStopping(monitor='accuracy',mode='max',verbose=1,patience=10)\n",
    "early_stop2 = EarlyStopping(monitor='val_loss',mode='min',verbose=1,patience=15)\n",
    "early_stop3 = EarlyStopping(monitor='val_accuracy',mode='max',verbose=1,patience=10)"
   ]
  },
  {
   "cell_type": "code",
   "execution_count": 12,
   "metadata": {},
   "outputs": [],
   "source": [
    "model = Sequential()\n",
    "\n",
    "model.add(Conv3D(3, (1,3,3),input_shape=(1, 150, 225, 3),padding='same',activation='relu'))\n",
    "model.add(Conv3D(3, (1,3,3),padding='same',activation='relu'))\n",
    "model.add(Flatten())\n",
    "model.add(Dense(1, activation='sigmoid'))\n",
    "\n",
    "model.compile(loss='binary_crossentropy',optimizer='adam',metrics=['accuracy'])"
   ]
  },
  {
   "cell_type": "code",
   "execution_count": 13,
   "metadata": {},
   "outputs": [
    {
     "name": "stdout",
     "output_type": "stream",
     "text": [
      "Train on 64 samples, validate on 20 samples\n",
      "Epoch 1/100\n",
      "32/64 [==============>...............] - ETA: 1s - loss: 12.6685 - accuracy: 0.4375 - val_loss: 1062.3542 - val_accuracy: 0.4000Epoch 2/100\n",
      "32/64 [==============>...............] - ETA: 1s - loss: 919.3204 - accuracy: 0.5312 - val_loss: 156.8813 - val_accuracy: 0.5500Epoch 3/100\n",
      "32/64 [==============>...............] - ETA: 0s - loss: 67.3948 - accuracy: 0.8125 - val_loss: 195.1608 - val_accuracy: 0.6000Epoch 4/100\n",
      "32/64 [==============>...............] - ETA: 0s - loss: 339.7292 - accuracy: 0.6250 - val_loss: 204.1942 - val_accuracy: 0.6000Epoch 5/100\n",
      "32/64 [==============>...............] - ETA: 1s - loss: 406.3264 - accuracy: 0.4688 - val_loss: 24.3998 - val_accuracy: 0.9000Epoch 6/100\n",
      "32/64 [==============>...............] - ETA: 1s - loss: 86.6079 - accuracy: 0.6875 - val_loss: 94.8441 - val_accuracy: 0.7000Epoch 7/100\n",
      "32/64 [==============>...............] - ETA: 1s - loss: 95.1810 - accuracy: 0.7500 - val_loss: 274.8507 - val_accuracy: 0.4500Epoch 8/100\n",
      "32/64 [==============>...............] - ETA: 1s - loss: 213.4782 - accuracy: 0.6250 - val_loss: 287.8187 - val_accuracy: 0.5500Epoch 9/100\n",
      "32/64 [==============>...............] - ETA: 1s - loss: 190.2918 - accuracy: 0.6875 - val_loss: 208.1503 - val_accuracy: 0.6000Epoch 10/100\n",
      "32/64 [==============>...............] - ETA: 1s - loss: 64.3442 - accuracy: 0.7812 - val_loss: 100.2198 - val_accuracy: 0.7000Epoch 11/100\n",
      "32/64 [==============>...............] - ETA: 1s - loss: 35.8089 - accuracy: 0.9062 - val_loss: 27.1941 - val_accuracy: 0.8000Epoch 12/100\n",
      "32/64 [==============>...............] - ETA: 1s - loss: 61.0995 - accuracy: 0.7812 - val_loss: 0.1255 - val_accuracy: 0.9500Epoch 13/100\n",
      "32/64 [==============>...............] - ETA: 1s - loss: 51.9281 - accuracy: 0.8750 - val_loss: 5.3870e-13 - val_accuracy: 1.0000Epoch 14/100\n",
      "32/64 [==============>...............] - ETA: 1s - loss: 213.1950 - accuracy: 0.6562 - val_loss: 1.2462e-06 - val_accuracy: 1.0000Epoch 15/100\n",
      "32/64 [==============>...............] - ETA: 1s - loss: 90.2187 - accuracy: 0.7812 - val_loss: 24.4080 - val_accuracy: 0.8500Epoch 16/100\n",
      "32/64 [==============>...............] - ETA: 1s - loss: 15.6076 - accuracy: 0.8438 - val_loss: 62.3115 - val_accuracy: 0.8000Epoch 17/100\n",
      "32/64 [==============>...............] - ETA: 1s - loss: 14.0477 - accuracy: 0.9375 - val_loss: 101.1197 - val_accuracy: 0.7000Epoch 18/100\n",
      "32/64 [==============>...............] - ETA: 1s - loss: 53.5789 - accuracy: 0.8125 - val_loss: 113.8063 - val_accuracy: 0.7000Epoch 19/100\n",
      "32/64 [==============>...............] - ETA: 0s - loss: 63.4924 - accuracy: 0.7812 - val_loss: 100.7354 - val_accuracy: 0.7000Epoch 20/100\n",
      "32/64 [==============>...............] - ETA: 1s - loss: 25.3546 - accuracy: 0.9375 - val_loss: 79.6998 - val_accuracy: 0.7000Epoch 21/100\n",
      "32/64 [==============>...............] - ETA: 0s - loss: 32.9907 - accuracy: 0.9062 - val_loss: 50.8535 - val_accuracy: 0.7000Epoch 22/100\n",
      "32/64 [==============>...............] - ETA: 1s - loss: 20.4491 - accuracy: 0.8125 - val_loss: 24.2264 - val_accuracy: 0.8500Epoch 23/100\n",
      "32/64 [==============>...............] - ETA: 0s - loss: 11.9821 - accuracy: 0.9062 - val_loss: 3.9604 - val_accuracy: 0.9500Epoch 00023: early stopping\n"
     ]
    },
    {
     "data": {
      "text/plain": [
       "<tensorflow.python.keras.callbacks.History at 0x15c7faa6788>"
      ]
     },
     "execution_count": 13,
     "metadata": {},
     "output_type": "execute_result"
    }
   ],
   "source": [
    "model.fit(x=X,y=y,epochs=100,validation_data=(X_test,y_test),\n",
    "          callbacks=[early_stop1,early_stop2,early_stop3])"
   ]
  },
  {
   "cell_type": "code",
   "execution_count": 14,
   "metadata": {},
   "outputs": [
    {
     "data": {
      "text/plain": [
       "{'loss': [12.66851806640625,\n",
       "  919.3203735351562,\n",
       "  67.3947982788086,\n",
       "  339.72918701171875,\n",
       "  406.3263854980469,\n",
       "  86.60789489746094,\n",
       "  95.18103790283203,\n",
       "  213.47824096679688,\n",
       "  190.29177856445312,\n",
       "  64.34420013427734,\n",
       "  35.80887222290039,\n",
       "  61.099456787109375,\n",
       "  51.928062438964844,\n",
       "  213.19503784179688,\n",
       "  90.21868896484375,\n",
       "  15.607552528381348,\n",
       "  14.04771900177002,\n",
       "  53.578861236572266,\n",
       "  63.492374420166016,\n",
       "  25.354564666748047,\n",
       "  32.99072265625,\n",
       "  20.44908332824707,\n",
       "  11.982083320617676],\n",
       " 'accuracy': [0.4375,\n",
       "  0.53125,\n",
       "  0.8125,\n",
       "  0.625,\n",
       "  0.46875,\n",
       "  0.6875,\n",
       "  0.75,\n",
       "  0.625,\n",
       "  0.6875,\n",
       "  0.78125,\n",
       "  0.90625,\n",
       "  0.78125,\n",
       "  0.875,\n",
       "  0.65625,\n",
       "  0.78125,\n",
       "  0.84375,\n",
       "  0.9375,\n",
       "  0.8125,\n",
       "  0.78125,\n",
       "  0.9375,\n",
       "  0.90625,\n",
       "  0.8125,\n",
       "  0.90625],\n",
       " 'val_loss': [1062.354248046875,\n",
       "  156.88131713867188,\n",
       "  195.16082763671875,\n",
       "  204.1941680908203,\n",
       "  24.399831771850586,\n",
       "  94.8440933227539,\n",
       "  274.8506774902344,\n",
       "  287.8186950683594,\n",
       "  208.1503448486328,\n",
       "  100.21983337402344,\n",
       "  27.194082260131836,\n",
       "  0.12554079294204712,\n",
       "  5.386969082615822e-13,\n",
       "  1.2461694041121518e-06,\n",
       "  24.40804100036621,\n",
       "  62.31153106689453,\n",
       "  101.1196517944336,\n",
       "  113.80633544921875,\n",
       "  100.7353515625,\n",
       "  79.69984436035156,\n",
       "  50.85347366333008,\n",
       "  24.226430892944336,\n",
       "  3.960353136062622],\n",
       " 'val_accuracy': [0.4,\n",
       "  0.55,\n",
       "  0.6,\n",
       "  0.6,\n",
       "  0.9,\n",
       "  0.7,\n",
       "  0.45,\n",
       "  0.55,\n",
       "  0.6,\n",
       "  0.7,\n",
       "  0.8,\n",
       "  0.95,\n",
       "  1.0,\n",
       "  1.0,\n",
       "  0.85,\n",
       "  0.8,\n",
       "  0.7,\n",
       "  0.7,\n",
       "  0.7,\n",
       "  0.7,\n",
       "  0.7,\n",
       "  0.85,\n",
       "  0.95]}"
      ]
     },
     "execution_count": 14,
     "metadata": {},
     "output_type": "execute_result"
    }
   ],
   "source": [
    "model.history.history"
   ]
  },
  {
   "cell_type": "code",
   "execution_count": 15,
   "metadata": {},
   "outputs": [],
   "source": [
    "loss_df = pd.DataFrame(model.history.history)"
   ]
  },
  {
   "cell_type": "code",
   "execution_count": 16,
   "metadata": {},
   "outputs": [
    {
     "data": {
      "text/plain": [
       "<matplotlib.axes._subplots.AxesSubplot at 0x15c7bed7d88>"
      ]
     },
     "execution_count": 16,
     "metadata": {},
     "output_type": "execute_result"
    },
    {
     "data": {
      "image/png": "[encoded data removed]",
      "text/plain": [
       "<Figure size 432x288 with 1 Axes>"
      ]
     },
     "metadata": {
      "needs_background": "light"
     },
     "output_type": "display_data"
    }
   ],
   "source": [
    "loss_df.plot()"
   ]
  },
  {
   "cell_type": "code",
   "execution_count": 17,
   "metadata": {},
   "outputs": [],
   "source": [
    "predictions = model.predict(X_test)"
   ]
  },
  {
   "cell_type": "code",
   "execution_count": 18,
   "metadata": {},
   "outputs": [
    {
     "data": {
      "text/plain": [
       "array([[1.0000000e+00],\n",
       "       [1.0000000e+00],\n",
       "       [1.0000000e+00],\n",
       "       [0.0000000e+00],\n",
       "       [0.0000000e+00],\n",
       "       [1.0000000e+00],\n",
       "       [1.0000000e+00],\n",
       "       [1.0000000e+00],\n",
       "       [1.0000000e+00],\n",
       "       [3.9885049e-35],\n",
       "       [1.0000000e+00],\n",
       "       [1.0000000e+00],\n",
       "       [1.0000000e+00],\n",
       "       [1.0000000e+00],\n",
       "       [0.0000000e+00],\n",
       "       [0.0000000e+00],\n",
       "       [0.0000000e+00],\n",
       "       [0.0000000e+00],\n",
       "       [0.0000000e+00],\n",
       "       [0.0000000e+00]], dtype=float32)"
      ]
     },
     "execution_count": 18,
     "metadata": {},
     "output_type": "execute_result"
    }
   ],
   "source": [
    "predictions"
   ]
  },
  {
   "cell_type": "code",
   "execution_count": 19,
   "metadata": {},
   "outputs": [
    {
     "data": {
      "text/plain": [
       "array([1, 1, 1, 0, 0, 1, 1, 1, 1, 1, 1, 1, 1, 1, 0, 0, 0, 0, 0, 0])"
      ]
     },
     "execution_count": 19,
     "metadata": {},
     "output_type": "execute_result"
    }
   ],
   "source": [
    "y_test"
   ]
  },
  {
   "cell_type": "code",
   "execution_count": 20,
   "metadata": {},
   "outputs": [],
   "source": [
    "predictions = pd.DataFrame(predictions,columns=['pred'])\n",
    "y_test = pd.DataFrame(y_test,columns=['true_y'])"
   ]
  },
  {
   "cell_type": "code",
   "execution_count": 21,
   "metadata": {},
   "outputs": [],
   "source": [
    "predplot = pd.concat([predictions,y_test],axis=1)"
   ]
  },
  {
   "cell_type": "code",
   "execution_count": 22,
   "metadata": {},
   "outputs": [],
   "source": [
    "predplot = np.round(predplot)\n",
    "predictions = np.round(predictions)"
   ]
  },
  {
   "cell_type": "code",
   "execution_count": 23,
   "metadata": {},
   "outputs": [
    {
     "data": {
      "text/html": [
       "<div>\n",
       "<style scoped>\n",
       "    .dataframe tbody tr th:only-of-type {\n",
       "        vertical-align: middle;\n",
       "    }\n",
       "\n",
       "    .dataframe tbody tr th {\n",
       "        vertical-align: top;\n",
       "    }\n",
       "\n",
       "    .dataframe thead th {\n",
       "        text-align: right;\n",
       "    }\n",
       "</style>\n",
       "<table border=\"1\" class=\"dataframe\">\n",
       "  <thead>\n",
       "    <tr style=\"text-align: right;\">\n",
       "      <th></th>\n",
       "      <th>pred</th>\n",
       "      <th>true_y</th>\n",
       "    </tr>\n",
       "  </thead>\n",
       "  <tbody>\n",
       "    <tr>\n",
       "      <td>0</td>\n",
       "      <td>1.0</td>\n",
       "      <td>1</td>\n",
       "    </tr>\n",
       "    <tr>\n",
       "      <td>1</td>\n",
       "      <td>1.0</td>\n",
       "      <td>1</td>\n",
       "    </tr>\n",
       "    <tr>\n",
       "      <td>2</td>\n",
       "      <td>1.0</td>\n",
       "      <td>1</td>\n",
       "    </tr>\n",
       "    <tr>\n",
       "      <td>3</td>\n",
       "      <td>0.0</td>\n",
       "      <td>0</td>\n",
       "    </tr>\n",
       "    <tr>\n",
       "      <td>4</td>\n",
       "      <td>0.0</td>\n",
       "      <td>0</td>\n",
       "    </tr>\n",
       "    <tr>\n",
       "      <td>5</td>\n",
       "      <td>1.0</td>\n",
       "      <td>1</td>\n",
       "    </tr>\n",
       "    <tr>\n",
       "      <td>6</td>\n",
       "      <td>1.0</td>\n",
       "      <td>1</td>\n",
       "    </tr>\n",
       "    <tr>\n",
       "      <td>7</td>\n",
       "      <td>1.0</td>\n",
       "      <td>1</td>\n",
       "    </tr>\n",
       "    <tr>\n",
       "      <td>8</td>\n",
       "      <td>1.0</td>\n",
       "      <td>1</td>\n",
       "    </tr>\n",
       "    <tr>\n",
       "      <td>9</td>\n",
       "      <td>0.0</td>\n",
       "      <td>1</td>\n",
       "    </tr>\n",
       "    <tr>\n",
       "      <td>10</td>\n",
       "      <td>1.0</td>\n",
       "      <td>1</td>\n",
       "    </tr>\n",
       "    <tr>\n",
       "      <td>11</td>\n",
       "      <td>1.0</td>\n",
       "      <td>1</td>\n",
       "    </tr>\n",
       "    <tr>\n",
       "      <td>12</td>\n",
       "      <td>1.0</td>\n",
       "      <td>1</td>\n",
       "    </tr>\n",
       "    <tr>\n",
       "      <td>13</td>\n",
       "      <td>1.0</td>\n",
       "      <td>1</td>\n",
       "    </tr>\n",
       "    <tr>\n",
       "      <td>14</td>\n",
       "      <td>0.0</td>\n",
       "      <td>0</td>\n",
       "    </tr>\n",
       "    <tr>\n",
       "      <td>15</td>\n",
       "      <td>0.0</td>\n",
       "      <td>0</td>\n",
       "    </tr>\n",
       "    <tr>\n",
       "      <td>16</td>\n",
       "      <td>0.0</td>\n",
       "      <td>0</td>\n",
       "    </tr>\n",
       "    <tr>\n",
       "      <td>17</td>\n",
       "      <td>0.0</td>\n",
       "      <td>0</td>\n",
       "    </tr>\n",
       "    <tr>\n",
       "      <td>18</td>\n",
       "      <td>0.0</td>\n",
       "      <td>0</td>\n",
       "    </tr>\n",
       "    <tr>\n",
       "      <td>19</td>\n",
       "      <td>0.0</td>\n",
       "      <td>0</td>\n",
       "    </tr>\n",
       "  </tbody>\n",
       "</table>\n",
       "</div>"
      ],
      "text/plain": [
       "    pred  true_y\n",
       "0    1.0       1\n",
       "1    1.0       1\n",
       "2    1.0       1\n",
       "3    0.0       0\n",
       "4    0.0       0\n",
       "5    1.0       1\n",
       "6    1.0       1\n",
       "7    1.0       1\n",
       "8    1.0       1\n",
       "9    0.0       1\n",
       "10   1.0       1\n",
       "11   1.0       1\n",
       "12   1.0       1\n",
       "13   1.0       1\n",
       "14   0.0       0\n",
       "15   0.0       0\n",
       "16   0.0       0\n",
       "17   0.0       0\n",
       "18   0.0       0\n",
       "19   0.0       0"
      ]
     },
     "execution_count": 23,
     "metadata": {},
     "output_type": "execute_result"
    }
   ],
   "source": [
    "predplot"
   ]
  },
  {
   "cell_type": "code",
   "execution_count": 24,
   "metadata": {},
   "outputs": [
    {
     "data": {
      "text/plain": [
       "<matplotlib.axes._subplots.AxesSubplot at 0x15c024a5348>"
      ]
     },
     "execution_count": 24,
     "metadata": {},
     "output_type": "execute_result"
    },
    {
     "data": {
      "image/png": "[encoded data removed]",
      "text/plain": [
       "<Figure size 432x288 with 1 Axes>"
      ]
     },
     "metadata": {
      "needs_background": "light"
     },
     "output_type": "display_data"
    }
   ],
   "source": [
    "#1 = KB\n",
    "#0 = null\n",
    "sns.scatterplot(data=predplot)"
   ]
  },
  {
   "cell_type": "code",
   "execution_count": 25,
   "metadata": {},
   "outputs": [
    {
     "name": "stdout",
     "output_type": "stream",
     "text": [
      "              precision    recall  f1-score   support\n",
      "\n",
      "         0.0       1.00      0.89      0.94         9\n",
      "         1.0       0.92      1.00      0.96        11\n",
      "\n",
      "    accuracy                           0.95        20\n",
      "   macro avg       0.96      0.94      0.95        20\n",
      "weighted avg       0.95      0.95      0.95        20\n",
      "\n"
     ]
    }
   ],
   "source": [
    "print(classification_report(predictions,y_test))"
   ]
  },
  {
   "cell_type": "code",
   "execution_count": 26,
   "metadata": {},
   "outputs": [
    {
     "name": "stdout",
     "output_type": "stream",
     "text": [
      "[[ 8  1]\n",
      " [ 0 11]]\n"
     ]
    }
   ],
   "source": [
    "print(confusion_matrix(predictions,y_test))"
   ]
  }
 ],
 "metadata": {
  "kernelspec": {
   "display_name": "Python 3",
   "language": "python",
   "name": "python3"
  },
  "language_info": {
   "codemirror_mode": {
    "name": "ipython",
    "version": 3
   },
   "file_extension": ".py",
   "mimetype": "text/x-python",
   "name": "python",
   "nbconvert_exporter": "python",
   "pygments_lexer": "ipython3",
   "version": "3.7.4"
  }
 },
 "nbformat": 4,
 "nbformat_minor": 2
}
